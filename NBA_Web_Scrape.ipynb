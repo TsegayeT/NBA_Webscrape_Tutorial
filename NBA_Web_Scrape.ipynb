{
 "cells": [
  {
   "cell_type": "markdown",
   "metadata": {},
   "source": [
    "<h1 style=\"font-size:3rem;color:red;\">NBA Web Scraping Tutorial<h1>"
   ]
  },
  {
   "cell_type": "markdown",
   "metadata": {},
   "source": [
    "<h3> Install and import requests and pandas <h3>"
   ]
  },
  {
   "cell_type": "code",
   "execution_count": 12,
   "metadata": {},
   "outputs": [
    {
     "name": "stdout",
     "output_type": "stream",
     "text": [
      "Requirement already satisfied: requests in c:\\users\\ttsegaye\\anaconda3\\lib\\site-packages (2.24.0)\n",
      "Requirement already satisfied: chardet<4,>=3.0.2 in c:\\users\\ttsegaye\\anaconda3\\lib\\site-packages (from requests) (3.0.4)\n",
      "Requirement already satisfied: urllib3!=1.25.0,!=1.25.1,<1.26,>=1.21.1 in c:\\users\\ttsegaye\\anaconda3\\lib\\site-packages (from requests) (1.25.11)\n",
      "Requirement already satisfied: idna<3,>=2.5 in c:\\users\\ttsegaye\\anaconda3\\lib\\site-packages (from requests) (2.10)\n",
      "Requirement already satisfied: certifi>=2017.4.17 in c:\\users\\ttsegaye\\anaconda3\\lib\\site-packages (from requests) (2020.6.20)\n"
     ]
    }
   ],
   "source": [
    "!pip install requests\n",
    "import requests\n",
    "import pandas as pd"
   ]
  },
  {
   "cell_type": "markdown",
   "metadata": {},
   "source": [
    "<ol><li> Go to the nba.com site and click on <em style= \"color:red\">Stats</em></li> \n",
    "    <li>On the right hand side select <em style= \"color:red\">Sortable Team Stats</em></li>\n",
    "    <li>Right click on the sight and select Inspect</li>\n",
    "    <li>Click on <em style= \"color:red\">Network</em> and <em style= \"color:red\">Fetch/XHR</em></li>\n",
    "    <li>Lastly refresh the page and you should see below image</li></ol> \n",
    "    <img src=\"nba_snapshot.png\">"
   ]
  },
  {
   "cell_type": "markdown",
   "metadata": {},
   "source": [
    "Now you want to find where the data is stored. To do that look under the <em style = \"color:red\">Name</em> tab and click on the name that starts with <em style=\"color:red\">leaguedashteamstats...</em>. Most times the stats name will be similar to website/data name you are looking for. This is where you'll get the url,data, the headings and parameters.\n",
    "<img src=\"Headers_nba.png\">"
   ]
  },
  {
   "cell_type": "markdown",
   "metadata": {},
   "source": [
    "Copy the url from <em style=\"color:red\">Request URL</em> under Headers tab and save it to url as shown below."
   ]
  },
  {
   "cell_type": "code",
   "execution_count": 13,
   "metadata": {},
   "outputs": [],
   "source": [
    "url = \"https://stats.nba.com/stats/leaguedashteamstats?Conference=&DateFrom=&DateTo=&Division=&GameScope=&GameSegment=&LastNGames=0&LeagueID=00&Location=&MeasureType=Base&Month=0&OpponentTeamID=0&Outcome=&PORound=0&PaceAdjust=N&PerMode=PerGame&Period=0&PlayerExperience=&PlayerPosition=&PlusMinus=N&Rank=N&Season=2021-22&SeasonSegment=&SeasonType=Regular+Season&ShotClockRange=&StarterBench=&TeamID=0&TwoWay=0&VsConference=&VsDivision=\""
   ]
  },
  {
   "cell_type": "markdown",
   "metadata": {},
   "source": [
    "Now scroll down to  <em style=\"color:red\">Request Headers</em> under Headers, copy everything, and save it to headers as shown below."
   ]
  },
  {
   "cell_type": "code",
   "execution_count": 14,
   "metadata": {},
   "outputs": [],
   "source": [
    "headers = {'Accept': 'application/json, text/plain, */*',\n",
    "'Accept-Encoding': 'gzip, deflate, br',\n",
    "'Accept-Language': 'en-US,en;q=0.9',\n",
    "'Cache-Control': 'no-cache',\n",
    "'Connection': 'keep-alive',\n",
    "'Host': 'stats.nba.com',\n",
    "'Origin': 'https://www.nba.com',\n",
    "'Pragma': 'no-cache',\n",
    "'Referer': 'https://www.nba.com/',\n",
    "'sec-ch-ua': 'Not;A Brand;v=99, Google Chrome;v=97, Chromium;v=97',\n",
    "'sec-ch-ua-mobile': '?0',\n",
    "'sec-ch-ua-platform': \"Windows\",\n",
    "'Sec-Fetch-Dest': 'empty',\n",
    "'Sec-Fetch-Mode': 'cors',\n",
    "'Sec-Fetch-Site': 'same-site',\n",
    "'User-Agent': 'Mozilla/5.0 (Windows NT 10.0; Win64; x64) AppleWebKit/537.36 (KHTML, like Gecko) Chrome/97.0.4692.99 Safari/537.36',\n",
    "'x-nba-stats-origin': 'stats',\n",
    "'x-nba-stats-token': 'true'}"
   ]
  },
  {
   "cell_type": "markdown",
   "metadata": {},
   "source": [
    "Lastly go to <em style=\"color:red\">Payload</em> tab, copy everything under <em style=\"color:red\">Query String Parameters</em>, and save it to params as shown below."
   ]
  },
  {
   "cell_type": "code",
   "execution_count": 15,
   "metadata": {},
   "outputs": [],
   "source": [
    "params = (\n",
    "('Conference', ''), \n",
    "('DateFrom','') ,\n",
    "('DateTo',''), \n",
    "('Division',''), \n",
    "('GameScope',''), \n",
    "('GameSegment',''), \n",
    "('LastNGames', '0'),\n",
    "('LeagueID', '00'),\n",
    "('Location', ''), \n",
    "('MeasureType', 'Base'),\n",
    "('Month', '0'),\n",
    "('OpponentTeamID', '0'),\n",
    "('Outcome', ''), \n",
    "('PORound', '0'),\n",
    "('PaceAdjust', 'N'),\n",
    "('PerMode', 'PerGame'),\n",
    "('Period', '0'),\n",
    "('PlayerExperience', '') ,\n",
    "('PlayerPosition', '' ),\n",
    "('PlusMinus', 'N'),\n",
    "('Rank', 'N'),\n",
    "('Season', '2021-22'),\n",
    "('SeasonSegment', ''), \n",
    "('SeasonType', 'Regular Season'),\n",
    "('ShotClockRange', ''), \n",
    "('StarterBench', ''), \n",
    "('TeamID', '0'),\n",
    "('TwoWay', '0'),\n",
    "('VsConference', ''), \n",
    "('VsDivision', ''),\n",
    ")"
   ]
  },
  {
   "cell_type": "markdown",
   "metadata": {},
   "source": [
    "Now request the data and check the response you get. If it's <em style= \"color:red\">Response [200] </em> then everything worked fine."
   ]
  },
  {
   "cell_type": "code",
   "execution_count": 17,
   "metadata": {},
   "outputs": [
    {
     "name": "stdout",
     "output_type": "stream",
     "text": [
      "<Response [200]>\n"
     ]
    }
   ],
   "source": [
    "response = requests.get(url, headers=headers, params=params)\n",
    "print(response)"
   ]
  },
  {
   "cell_type": "markdown",
   "metadata": {},
   "source": [
    "Below gives you the data in json format"
   ]
  },
  {
   "cell_type": "code",
   "execution_count": 18,
   "metadata": {
    "collapsed": true
   },
   "outputs": [
    {
     "name": "stdout",
     "output_type": "stream",
     "text": [
      "{'resource': 'leaguedashteamstats', 'parameters': {'MeasureType': 'Base', 'PerMode': 'PerGame', 'PlusMinus': 'N', 'PaceAdjust': 'N', 'Rank': 'N', 'LeagueID': '00', 'Season': '2021-22', 'SeasonType': 'Regular Season', 'PORound': 0, 'Outcome': None, 'Location': None, 'Month': 0, 'SeasonSegment': None, 'DateFrom': None, 'DateTo': None, 'OpponentTeamID': 0, 'VsConference': None, 'VsDivision': None, 'TeamID': 0, 'Conference': None, 'Division': None, 'GameSegment': None, 'Period': 0, 'ShotClockRange': None, 'LastNGames': 0, 'GameScope': None, 'PlayerExperience': None, 'PlayerPosition': None, 'StarterBench': None, 'TwoWay': 0}, 'resultSets': [{'name': 'LeagueDashTeamStats', 'headers': ['TEAM_ID', 'TEAM_NAME', 'GP', 'W', 'L', 'W_PCT', 'MIN', 'FGM', 'FGA', 'FG_PCT', 'FG3M', 'FG3A', 'FG3_PCT', 'FTM', 'FTA', 'FT_PCT', 'OREB', 'DREB', 'REB', 'AST', 'TOV', 'STL', 'BLK', 'BLKA', 'PF', 'PFD', 'PTS', 'PLUS_MINUS', 'GP_RANK', 'W_RANK', 'L_RANK', 'W_PCT_RANK', 'MIN_RANK', 'FGM_RANK', 'FGA_RANK', 'FG_PCT_RANK', 'FG3M_RANK', 'FG3A_RANK', 'FG3_PCT_RANK', 'FTM_RANK', 'FTA_RANK', 'FT_PCT_RANK', 'OREB_RANK', 'DREB_RANK', 'REB_RANK', 'AST_RANK', 'TOV_RANK', 'STL_RANK', 'BLK_RANK', 'BLKA_RANK', 'PF_RANK', 'PFD_RANK', 'PTS_RANK', 'PLUS_MINUS_RANK', 'CFID', 'CFPARAMS'], 'rowSet': [[1610612737, 'Atlanta Hawks', 53, 25, 28, 0.472, 48.0, 40.8, 87.5, 0.466, 12.4, 33.3, 0.373, 17.5, 21.8, 0.803, 9.8, 34.6, 44.4, 24.2, 12.3, 6.8, 4.3, 4.5, 18.3, 20.2, 111.5, 0.1, 15, 19, 17, 19, 28, 9, 15, 8, 12, 22, 2, 5, 10, 6, 21, 14, 19, 14, 1, 27, 23, 11, 5, 5, 9, 16, 10, 'Atlanta Hawks'], [1610612738, 'Boston Celtics', 55, 30, 25, 0.545, 48.7, 39.4, 87.6, 0.45, 12.4, 36.4, 0.34, 16.9, 20.7, 0.817, 10.8, 35.7, 46.5, 23.3, 14.2, 7.3, 5.9, 4.7, 18.7, 19.2, 108.1, 4.1, 1, 11, 14, 14, 2, 20, 14, 22, 14, 11, 22, 10, 20, 1, 9, 4, 3, 20, 18, 19, 2, 16, 8, 18, 19, 6, 10, 'Boston Celtics'], [1610612751, 'Brooklyn Nets', 53, 29, 24, 0.547, 48.2, 41.5, 88.4, 0.47, 11.2, 31.7, 0.354, 17.0, 20.9, 0.816, 10.1, 34.8, 44.9, 25.3, 14.0, 7.0, 5.5, 5.2, 19.8, 19.3, 111.3, 0.5, 15, 12, 12, 12, 16, 6, 12, 5, 23, 25, 16, 9, 19, 2, 20, 12, 15, 8, 16, 25, 7, 21, 20, 16, 10, 15, 10, 'Brooklyn Nets'], [1610612766, 'Charlotte Hornets', 54, 28, 26, 0.519, 48.4, 42.1, 91.9, 0.459, 13.9, 38.2, 0.363, 15.4, 20.9, 0.736, 10.7, 33.8, 44.5, 26.9, 13.2, 8.7, 4.9, 4.7, 19.5, 19.5, 113.6, -0.6, 8, 14, 16, 16, 8, 4, 3, 14, 5, 6, 7, 26, 16, 28, 10, 20, 18, 4, 7, 5, 12, 15, 17, 13, 2, 18, 10, 'Charlotte Hornets'], [1610612741, 'Chicago Bulls', 53, 33, 20, 0.623, 48.1, 41.6, 87.0, 0.478, 11.2, 30.0, 0.372, 17.2, 21.2, 0.814, 8.9, 34.1, 43.0, 24.5, 13.0, 7.2, 4.6, 5.2, 18.8, 17.8, 111.6, 1.7, 15, 6, 4, 5, 24, 5, 19, 1, 25, 30, 3, 7, 15, 4, 29, 19, 27, 12, 6, 21, 20, 21, 9, 28, 7, 12, 10, 'Chicago Bulls'], [1610612739, 'Cleveland Cavaliers', 54, 33, 21, 0.611, 48.0, 39.5, 85.1, 0.464, 11.8, 33.7, 0.351, 15.7, 20.9, 0.751, 10.4, 34.9, 45.3, 25.5, 14.9, 7.2, 4.3, 4.5, 17.0, 19.2, 106.5, 4.4, 8, 6, 6, 7, 28, 19, 29, 10, 18, 21, 17, 22, 18, 24, 12, 11, 10, 7, 27, 22, 24, 10, 1, 17, 23, 4, 10, 'Cleveland Cavaliers'], [1610612742, 'Dallas Mavericks', 54, 31, 23, 0.574, 48.3, 39.1, 86.4, 0.453, 12.3, 36.8, 0.335, 15.6, 20.2, 0.77, 9.5, 34.3, 43.8, 24.0, 12.6, 7.1, 4.1, 3.9, 19.7, 19.9, 106.2, 2.7, 8, 10, 10, 10, 11, 23, 23, 19, 15, 9, 24, 24, 23, 16, 23, 17, 23, 16, 3, 23, 27, 1, 19, 10, 25, 9, 10, 'Dallas Mavericks'], [1610612743, 'Denver Nuggets', 53, 29, 24, 0.547, 48.2, 40.8, 86.5, 0.472, 12.8, 36.3, 0.354, 14.7, 18.7, 0.787, 8.9, 34.4, 43.3, 27.1, 13.9, 7.3, 3.8, 4.9, 19.3, 19.2, 109.3, 1.8, 15, 12, 12, 12, 16, 8, 21, 4, 10, 12, 14, 28, 29, 11, 28, 16, 26, 3, 15, 20, 29, 18, 15, 20, 14, 11, 10, 'Denver Nuggets'], [1610612765, 'Detroit Pistons', 53, 12, 41, 0.226, 48.2, 37.1, 88.2, 0.42, 11.2, 35.0, 0.321, 17.1, 21.9, 0.777, 10.6, 32.1, 42.7, 22.4, 14.6, 7.8, 4.9, 5.2, 21.5, 20.1, 102.5, -9.4, 15, 29, 29, 29, 16, 30, 13, 29, 23, 16, 29, 8, 9, 14, 11, 29, 28, 26, 23, 8, 14, 25, 29, 7, 29, 30, 10, 'Detroit Pistons'], [1610612744, 'Golden State Warriors', 53, 40, 13, 0.755, 48.2, 40.4, 86.5, 0.467, 14.6, 40.1, 0.364, 15.5, 20.3, 0.764, 10.1, 36.4, 46.5, 27.5, 15.6, 9.4, 4.9, 4.1, 20.3, 17.7, 110.9, 8.3, 15, 2, 2, 2, 16, 15, 22, 6, 1, 2, 5, 25, 22, 19, 18, 2, 4, 2, 29, 2, 10, 4, 26, 29, 12, 1, 10, 'Golden State Warriors'], [1610612745, 'Houston Rockets', 53, 15, 38, 0.283, 48.1, 38.7, 85.6, 0.452, 13.2, 38.5, 0.344, 17.8, 24.8, 0.718, 9.5, 33.0, 42.5, 22.9, 16.9, 7.3, 4.7, 5.8, 20.1, 22.4, 108.3, -8.7, 15, 28, 28, 28, 24, 25, 28, 20, 8, 5, 20, 3, 1, 30, 24, 27, 29, 24, 30, 18, 16, 28, 24, 1, 17, 29, 10, 'Houston Rockets'], [1610612754, 'Indiana Pacers', 55, 19, 36, 0.345, 48.5, 40.5, 88.8, 0.456, 11.7, 35.2, 0.333, 16.0, 20.9, 0.767, 10.9, 33.7, 44.7, 24.3, 14.3, 6.8, 5.6, 4.9, 20.5, 19.4, 108.7, -2.1, 1, 26, 27, 26, 3, 13, 11, 17, 20, 15, 25, 19, 17, 17, 7, 22, 16, 13, 22, 28, 6, 17, 27, 14, 15, 22, 10, 'Indiana Pacers'], [1610612746, 'LA Clippers', 55, 27, 28, 0.491, 48.2, 39.3, 87.4, 0.45, 12.5, 34.7, 0.36, 15.2, 19.2, 0.79, 9.0, 35.1, 44.1, 23.3, 14.2, 7.5, 4.5, 4.3, 18.7, 18.7, 106.3, -1.1, 1, 17, 17, 17, 21, 22, 17, 21, 11, 18, 9, 27, 28, 9, 27, 9, 21, 19, 19, 15, 22, 6, 7, 25, 24, 20, 10, 'LA Clippers'], [1610612747, 'Los Angeles Lakers', 54, 26, 28, 0.481, 48.8, 41.4, 89.3, 0.464, 12.0, 34.5, 0.348, 16.2, 22.2, 0.729, 9.6, 35.3, 44.9, 24.1, 14.7, 8.1, 5.6, 4.0, 20.2, 20.0, 110.9, -1.3, 8, 18, 17, 18, 1, 7, 7, 11, 16, 19, 18, 18, 5, 29, 22, 7, 14, 15, 26, 7, 5, 3, 25, 8, 11, 21, 10, 'Los Angeles Lakers'], [1610612763, 'Memphis Grizzlies', 55, 37, 18, 0.673, 48.3, 42.7, 93.4, 0.457, 11.1, 32.7, 0.339, 16.2, 22.0, 0.737, 13.6, 35.0, 48.6, 25.1, 13.3, 10.1, 6.4, 6.4, 19.1, 19.0, 112.7, 4.1, 1, 3, 3, 3, 13, 3, 1, 16, 27, 24, 23, 17, 8, 27, 1, 10, 1, 9, 10, 1, 1, 30, 11, 22, 5, 7, 10, 'Memphis Grizzlies'], [1610612748, 'Miami Heat', 54, 34, 20, 0.63, 48.5, 39.3, 85.7, 0.459, 13.5, 36.1, 0.375, 16.5, 20.2, 0.815, 10.8, 33.8, 44.6, 25.9, 14.9, 7.6, 3.3, 4.4, 20.5, 20.0, 108.7, 4.2, 8, 4, 4, 4, 5, 21, 27, 13, 7, 13, 1, 15, 24, 3, 8, 21, 17, 6, 27, 13, 30, 8, 28, 9, 16, 5, 10, 'Miami Heat'], [1610612749, 'Milwaukee Bucks', 55, 34, 21, 0.618, 48.2, 40.7, 88.9, 0.458, 14.3, 39.4, 0.364, 16.9, 21.6, 0.782, 10.3, 36.5, 46.8, 23.4, 13.7, 7.7, 4.2, 4.5, 17.8, 19.2, 112.7, 4.0, 1, 4, 6, 6, 21, 11, 10, 15, 4, 4, 6, 11, 12, 12, 15, 1, 2, 18, 13, 9, 26, 9, 2, 19, 4, 8, 10, 'Milwaukee Bucks'], [1610612750, 'Minnesota Timberwolves', 53, 28, 25, 0.528, 48.3, 40.8, 91.3, 0.446, 14.3, 41.3, 0.347, 16.5, 21.6, 0.765, 12.1, 33.0, 45.1, 24.8, 14.6, 8.8, 5.8, 5.2, 21.7, 20.7, 112.4, 1.7, 15, 14, 14, 15, 9, 9, 4, 24, 3, 1, 19, 13, 13, 18, 3, 27, 12, 10, 25, 4, 3, 23, 30, 2, 6, 13, 10, 'Minnesota Timberwolves'], [1610612740, 'New Orleans Pelicans', 53, 21, 32, 0.396, 48.2, 38.5, 87.4, 0.441, 10.8, 32.7, 0.329, 17.9, 22.7, 0.79, 11.6, 33.7, 45.3, 24.7, 14.3, 7.6, 4.1, 5.1, 19.5, 20.2, 105.8, -3.5, 15, 22, 22, 22, 16, 26, 18, 25, 29, 23, 26, 1, 3, 8, 4, 23, 11, 11, 20, 11, 28, 19, 16, 3, 26, 24, 10, 'New Orleans Pelicans'], [1610612752, 'New York Knicks', 53, 24, 29, 0.453, 48.3, 37.4, 85.7, 0.436, 13.0, 36.6, 0.355, 16.5, 22.2, 0.747, 11.1, 34.7, 45.8, 21.4, 13.6, 6.9, 4.9, 4.7, 19.7, 19.5, 104.4, -0.9, 15, 20, 21, 21, 9, 28, 26, 27, 9, 10, 12, 13, 7, 25, 6, 13, 7, 29, 12, 26, 10, 14, 18, 12, 27, 19, 10, 'New York Knicks'], [1610612760, 'Oklahoma City Thunder', 52, 17, 35, 0.327, 48.2, 37.2, 89.1, 0.418, 11.8, 37.6, 0.315, 14.7, 19.3, 0.763, 10.4, 35.5, 45.9, 21.1, 13.5, 7.4, 4.6, 6.2, 18.2, 17.6, 101.0, -6.4, 27, 27, 25, 27, 15, 29, 9, 30, 17, 8, 30, 29, 27, 20, 13, 6, 6, 30, 11, 16, 21, 29, 4, 30, 30, 27, 10, 'Oklahoma City Thunder'], [1610612753, 'Orlando Magic', 55, 12, 43, 0.218, 48.1, 37.8, 87.4, 0.432, 11.7, 35.9, 0.326, 15.7, 19.9, 0.787, 9.1, 34.3, 43.3, 23.0, 14.6, 6.7, 4.7, 5.4, 20.0, 18.5, 102.9, -8.4, 1, 29, 30, 30, 27, 27, 16, 28, 19, 14, 27, 21, 26, 10, 26, 18, 25, 23, 24, 29, 17, 27, 22, 26, 28, 28, 10, 'Orlando Magic'], [1610612755, 'Philadelphia 76ers', 53, 32, 21, 0.604, 48.4, 39.6, 85.1, 0.466, 11.0, 30.9, 0.358, 17.5, 21.7, 0.809, 8.4, 33.7, 42.1, 23.2, 12.5, 7.6, 5.7, 4.6, 19.1, 18.9, 107.8, 2.2, 15, 8, 6, 8, 7, 18, 30, 7, 28, 28, 10, 4, 11, 5, 30, 24, 30, 21, 2, 12, 4, 13, 12, 24, 21, 10, 10, 'Philadelphia 76ers'], [1610612756, 'Phoenix Suns', 52, 42, 10, 0.808, 48.1, 42.7, 89.4, 0.478, 11.5, 31.7, 0.363, 15.8, 20.0, 0.791, 10.2, 35.9, 46.1, 26.5, 13.3, 8.6, 4.3, 4.0, 19.3, 19.3, 112.7, 7.8, 27, 1, 1, 1, 23, 2, 6, 2, 22, 26, 8, 20, 25, 7, 16, 3, 5, 5, 9, 6, 25, 2, 14, 15, 3, 2, 10, 'Phoenix Suns'], [1610612757, 'Portland Trail Blazers', 54, 21, 33, 0.389, 48.1, 39.0, 86.9, 0.449, 13.5, 38.1, 0.355, 16.4, 21.5, 0.76, 10.1, 33.6, 43.7, 22.7, 13.9, 7.5, 4.7, 4.5, 20.0, 19.7, 107.8, -4.4, 8, 22, 23, 23, 26, 24, 20, 23, 6, 7, 11, 16, 14, 21, 19, 25, 24, 25, 14, 14, 19, 12, 23, 11, 20, 25, 10, 'Portland Trail Blazers'], [1610612758, 'Sacramento Kings', 55, 20, 35, 0.364, 48.3, 40.5, 89.2, 0.454, 11.7, 34.1, 0.343, 16.7, 22.2, 0.755, 10.4, 33.5, 43.8, 23.2, 14.0, 7.3, 4.7, 5.2, 19.2, 19.0, 109.5, -5.0, 1, 24, 25, 25, 13, 13, 8, 18, 20, 20, 21, 12, 6, 23, 14, 26, 22, 22, 17, 17, 18, 24, 13, 21, 13, 26, 10, 'Sacramento Kings'], [1610612759, 'San Antonio Spurs', 54, 20, 34, 0.37, 48.3, 43.3, 93.1, 0.466, 11.1, 31.5, 0.354, 13.7, 18.6, 0.738, 11.2, 34.4, 45.6, 27.9, 12.7, 7.7, 5.2, 5.3, 17.9, 18.3, 111.5, 0.0, 8, 24, 24, 24, 11, 1, 2, 9, 26, 27, 15, 30, 30, 26, 5, 15, 9, 1, 4, 10, 8, 26, 3, 27, 8, 17, 10, 'San Antonio Spurs'], [1610612761, 'Toronto Raptors', 51, 28, 23, 0.549, 48.5, 40.1, 91.1, 0.44, 12.4, 34.9, 0.355, 15.6, 20.7, 0.757, 13.2, 31.8, 45.0, 22.2, 12.8, 9.2, 4.9, 5.1, 19.8, 18.9, 108.2, 1.3, 30, 14, 10, 11, 4, 16, 5, 26, 13, 17, 13, 23, 21, 22, 2, 30, 13, 27, 5, 3, 13, 20, 21, 23, 18, 14, 10, 'Toronto Raptors'], [1610612762, 'Utah Jazz', 53, 32, 21, 0.604, 48.0, 40.6, 85.9, 0.473, 14.6, 40.0, 0.364, 17.8, 22.9, 0.778, 10.1, 35.7, 45.8, 22.2, 14.3, 7.1, 4.8, 4.2, 18.8, 20.1, 113.6, 6.0, 15, 8, 6, 8, 28, 12, 25, 3, 1, 3, 4, 2, 2, 13, 17, 5, 8, 28, 21, 24, 15, 5, 10, 6, 1, 3, 10, 'Utah Jazz'], [1610612764, 'Washington Wizards', 52, 24, 28, 0.462, 48.4, 39.8, 86.1, 0.463, 10.0, 30.9, 0.324, 17.2, 22.2, 0.776, 9.2, 35.2, 44.3, 23.9, 13.2, 6.0, 5.0, 4.3, 18.7, 20.2, 106.9, -2.8, 27, 20, 17, 20, 6, 17, 24, 12, 30, 29, 28, 6, 4, 15, 25, 8, 20, 17, 8, 30, 9, 7, 6, 4, 22, 23, 10, 'Washington Wizards']]}]}\n"
     ]
    }
   ],
   "source": [
    "jsn = response.json()\n",
    "print(jsn)"
   ]
  },
  {
   "cell_type": "markdown",
   "metadata": {},
   "source": [
    "Below you create a data frame with all the data"
   ]
  },
  {
   "cell_type": "code",
   "execution_count": 20,
   "metadata": {
    "collapsed": true
   },
   "outputs": [
    {
     "name": "stdout",
     "output_type": "stream",
     "text": [
      "            0                       1   2   3   4      5     6     7     8   \\\n",
      "0   1610612737           Atlanta Hawks  53  25  28  0.472  48.0  40.8  87.5   \n",
      "1   1610612738          Boston Celtics  55  30  25  0.545  48.7  39.4  87.6   \n",
      "2   1610612751           Brooklyn Nets  53  29  24  0.547  48.2  41.5  88.4   \n",
      "3   1610612766       Charlotte Hornets  54  28  26  0.519  48.4  42.1  91.9   \n",
      "4   1610612741           Chicago Bulls  53  33  20  0.623  48.1  41.6  87.0   \n",
      "5   1610612739     Cleveland Cavaliers  54  33  21  0.611  48.0  39.5  85.1   \n",
      "6   1610612742        Dallas Mavericks  54  31  23  0.574  48.3  39.1  86.4   \n",
      "7   1610612743          Denver Nuggets  53  29  24  0.547  48.2  40.8  86.5   \n",
      "8   1610612765         Detroit Pistons  53  12  41  0.226  48.2  37.1  88.2   \n",
      "9   1610612744   Golden State Warriors  53  40  13  0.755  48.2  40.4  86.5   \n",
      "10  1610612745         Houston Rockets  53  15  38  0.283  48.1  38.7  85.6   \n",
      "11  1610612754          Indiana Pacers  55  19  36  0.345  48.5  40.5  88.8   \n",
      "12  1610612746             LA Clippers  55  27  28  0.491  48.2  39.3  87.4   \n",
      "13  1610612747      Los Angeles Lakers  54  26  28  0.481  48.8  41.4  89.3   \n",
      "14  1610612763       Memphis Grizzlies  55  37  18  0.673  48.3  42.7  93.4   \n",
      "15  1610612748              Miami Heat  54  34  20  0.630  48.5  39.3  85.7   \n",
      "16  1610612749         Milwaukee Bucks  55  34  21  0.618  48.2  40.7  88.9   \n",
      "17  1610612750  Minnesota Timberwolves  53  28  25  0.528  48.3  40.8  91.3   \n",
      "18  1610612740    New Orleans Pelicans  53  21  32  0.396  48.2  38.5  87.4   \n",
      "19  1610612752         New York Knicks  53  24  29  0.453  48.3  37.4  85.7   \n",
      "20  1610612760   Oklahoma City Thunder  52  17  35  0.327  48.2  37.2  89.1   \n",
      "21  1610612753           Orlando Magic  55  12  43  0.218  48.1  37.8  87.4   \n",
      "22  1610612755      Philadelphia 76ers  53  32  21  0.604  48.4  39.6  85.1   \n",
      "23  1610612756            Phoenix Suns  52  42  10  0.808  48.1  42.7  89.4   \n",
      "24  1610612757  Portland Trail Blazers  54  21  33  0.389  48.1  39.0  86.9   \n",
      "25  1610612758        Sacramento Kings  55  20  35  0.364  48.3  40.5  89.2   \n",
      "26  1610612759       San Antonio Spurs  54  20  34  0.370  48.3  43.3  93.1   \n",
      "27  1610612761         Toronto Raptors  51  28  23  0.549  48.5  40.1  91.1   \n",
      "28  1610612762               Utah Jazz  53  32  21  0.604  48.0  40.6  85.9   \n",
      "29  1610612764      Washington Wizards  52  24  28  0.462  48.4  39.8  86.1   \n",
      "\n",
      "       9   ...  46  47  48  49  50  51  52  53  54                      55  \n",
      "0   0.466  ...   1  27  23  11   5   5   9  16  10           Atlanta Hawks  \n",
      "1   0.450  ...  18  19   2  16   8  18  19   6  10          Boston Celtics  \n",
      "2   0.470  ...  16  25   7  21  20  16  10  15  10           Brooklyn Nets  \n",
      "3   0.459  ...   7   5  12  15  17  13   2  18  10       Charlotte Hornets  \n",
      "4   0.478  ...   6  21  20  21   9  28   7  12  10           Chicago Bulls  \n",
      "5   0.464  ...  27  22  24  10   1  17  23   4  10     Cleveland Cavaliers  \n",
      "6   0.453  ...   3  23  27   1  19  10  25   9  10        Dallas Mavericks  \n",
      "7   0.472  ...  15  20  29  18  15  20  14  11  10          Denver Nuggets  \n",
      "8   0.420  ...  23   8  14  25  29   7  29  30  10         Detroit Pistons  \n",
      "9   0.467  ...  29   2  10   4  26  29  12   1  10   Golden State Warriors  \n",
      "10  0.452  ...  30  18  16  28  24   1  17  29  10         Houston Rockets  \n",
      "11  0.456  ...  22  28   6  17  27  14  15  22  10          Indiana Pacers  \n",
      "12  0.450  ...  19  15  22   6   7  25  24  20  10             LA Clippers  \n",
      "13  0.464  ...  26   7   5   3  25   8  11  21  10      Los Angeles Lakers  \n",
      "14  0.457  ...  10   1   1  30  11  22   5   7  10       Memphis Grizzlies  \n",
      "15  0.459  ...  27  13  30   8  28   9  16   5  10              Miami Heat  \n",
      "16  0.458  ...  13   9  26   9   2  19   4   8  10         Milwaukee Bucks  \n",
      "17  0.446  ...  25   4   3  23  30   2   6  13  10  Minnesota Timberwolves  \n",
      "18  0.441  ...  20  11  28  19  16   3  26  24  10    New Orleans Pelicans  \n",
      "19  0.436  ...  12  26  10  14  18  12  27  19  10         New York Knicks  \n",
      "20  0.418  ...  11  16  21  29   4  30  30  27  10   Oklahoma City Thunder  \n",
      "21  0.432  ...  24  29  17  27  22  26  28  28  10           Orlando Magic  \n",
      "22  0.466  ...   2  12   4  13  12  24  21  10  10      Philadelphia 76ers  \n",
      "23  0.478  ...   9   6  25   2  14  15   3   2  10            Phoenix Suns  \n",
      "24  0.449  ...  14  14  19  12  23  11  20  25  10  Portland Trail Blazers  \n",
      "25  0.454  ...  17  17  18  24  13  21  13  26  10        Sacramento Kings  \n",
      "26  0.466  ...   4  10   8  26   3  27   8  17  10       San Antonio Spurs  \n",
      "27  0.440  ...   5   3  13  20  21  23  18  14  10         Toronto Raptors  \n",
      "28  0.473  ...  21  24  15   5  10   6   1   3  10               Utah Jazz  \n",
      "29  0.463  ...   8  30   9   7   6   4  22  23  10      Washington Wizards  \n",
      "\n",
      "[30 rows x 56 columns]\n"
     ]
    }
   ],
   "source": [
    "frame = pd.DataFrame(jsn['resultSets'][0]['rowSet'])\n",
    "print(frame)"
   ]
  },
  {
   "cell_type": "markdown",
   "metadata": {},
   "source": [
    "Below you add the headers to the data table/dataframe"
   ]
  },
  {
   "cell_type": "code",
   "execution_count": 53,
   "metadata": {
    "collapsed": true
   },
   "outputs": [
    {
     "data": {
      "text/plain": [
       "TEAM_ID              int64\n",
       "TEAM_NAME           object\n",
       "GP                   int64\n",
       "W                    int64\n",
       "L                    int64\n",
       "W_PCT              float64\n",
       "MIN                float64\n",
       "FGM                float64\n",
       "FGA                float64\n",
       "FG_PCT             float64\n",
       "FG3M               float64\n",
       "FG3A               float64\n",
       "FG3_PCT            float64\n",
       "FTM                float64\n",
       "FTA                float64\n",
       "FT_PCT             float64\n",
       "OREB               float64\n",
       "DREB               float64\n",
       "REB                float64\n",
       "AST                float64\n",
       "TOV                float64\n",
       "STL                float64\n",
       "BLK                float64\n",
       "BLKA               float64\n",
       "PF                 float64\n",
       "PFD                float64\n",
       "PTS                float64\n",
       "PLUS_MINUS         float64\n",
       "GP_RANK              int64\n",
       "W_RANK               int64\n",
       "L_RANK               int64\n",
       "W_PCT_RANK           int64\n",
       "MIN_RANK             int64\n",
       "FGM_RANK             int64\n",
       "FGA_RANK             int64\n",
       "FG_PCT_RANK          int64\n",
       "FG3M_RANK            int64\n",
       "FG3A_RANK            int64\n",
       "FG3_PCT_RANK         int64\n",
       "FTM_RANK             int64\n",
       "FTA_RANK             int64\n",
       "FT_PCT_RANK          int64\n",
       "OREB_RANK            int64\n",
       "DREB_RANK            int64\n",
       "REB_RANK             int64\n",
       "AST_RANK             int64\n",
       "TOV_RANK             int64\n",
       "STL_RANK             int64\n",
       "BLK_RANK             int64\n",
       "BLKA_RANK            int64\n",
       "PF_RANK              int64\n",
       "PFD_RANK             int64\n",
       "PTS_RANK             int64\n",
       "PLUS_MINUS_RANK      int64\n",
       "CFID                 int64\n",
       "CFPARAMS            object\n",
       "dtype: object"
      ]
     },
     "execution_count": 53,
     "metadata": {},
     "output_type": "execute_result"
    }
   ],
   "source": [
    "#add the headers to the data table/dataframe\n",
    "frame.columns = jsn['resultSets'][0]['headers'] \n",
    "#check the columns names/header and theyre data types\n",
    "frame.dtypes\n"
   ]
  },
  {
   "cell_type": "code",
   "execution_count": 55,
   "metadata": {
    "collapsed": true
   },
   "outputs": [
    {
     "data": {
      "text/html": [
       "<div>\n",
       "<style scoped>\n",
       "    .dataframe tbody tr th:only-of-type {\n",
       "        vertical-align: middle;\n",
       "    }\n",
       "\n",
       "    .dataframe tbody tr th {\n",
       "        vertical-align: top;\n",
       "    }\n",
       "\n",
       "    .dataframe thead th {\n",
       "        text-align: right;\n",
       "    }\n",
       "</style>\n",
       "<table border=\"1\" class=\"dataframe\">\n",
       "  <thead>\n",
       "    <tr style=\"text-align: right;\">\n",
       "      <th></th>\n",
       "      <th>TEAM_ID</th>\n",
       "      <th>TEAM_NAME</th>\n",
       "      <th>GP</th>\n",
       "      <th>W</th>\n",
       "      <th>L</th>\n",
       "      <th>W_PCT</th>\n",
       "      <th>MIN</th>\n",
       "      <th>FGM</th>\n",
       "      <th>FGA</th>\n",
       "      <th>FG_PCT</th>\n",
       "      <th>...</th>\n",
       "      <th>TOV_RANK</th>\n",
       "      <th>STL_RANK</th>\n",
       "      <th>BLK_RANK</th>\n",
       "      <th>BLKA_RANK</th>\n",
       "      <th>PF_RANK</th>\n",
       "      <th>PFD_RANK</th>\n",
       "      <th>PTS_RANK</th>\n",
       "      <th>PLUS_MINUS_RANK</th>\n",
       "      <th>CFID</th>\n",
       "      <th>CFPARAMS</th>\n",
       "    </tr>\n",
       "  </thead>\n",
       "  <tbody>\n",
       "    <tr>\n",
       "      <th>0</th>\n",
       "      <td>1610612737</td>\n",
       "      <td>Atlanta Hawks</td>\n",
       "      <td>53</td>\n",
       "      <td>25</td>\n",
       "      <td>28</td>\n",
       "      <td>0.472</td>\n",
       "      <td>48.0</td>\n",
       "      <td>40.8</td>\n",
       "      <td>87.5</td>\n",
       "      <td>0.466</td>\n",
       "      <td>...</td>\n",
       "      <td>1</td>\n",
       "      <td>27</td>\n",
       "      <td>23</td>\n",
       "      <td>11</td>\n",
       "      <td>5</td>\n",
       "      <td>5</td>\n",
       "      <td>9</td>\n",
       "      <td>16</td>\n",
       "      <td>10</td>\n",
       "      <td>Atlanta Hawks</td>\n",
       "    </tr>\n",
       "    <tr>\n",
       "      <th>1</th>\n",
       "      <td>1610612738</td>\n",
       "      <td>Boston Celtics</td>\n",
       "      <td>55</td>\n",
       "      <td>30</td>\n",
       "      <td>25</td>\n",
       "      <td>0.545</td>\n",
       "      <td>48.7</td>\n",
       "      <td>39.4</td>\n",
       "      <td>87.6</td>\n",
       "      <td>0.450</td>\n",
       "      <td>...</td>\n",
       "      <td>18</td>\n",
       "      <td>19</td>\n",
       "      <td>2</td>\n",
       "      <td>16</td>\n",
       "      <td>8</td>\n",
       "      <td>18</td>\n",
       "      <td>19</td>\n",
       "      <td>6</td>\n",
       "      <td>10</td>\n",
       "      <td>Boston Celtics</td>\n",
       "    </tr>\n",
       "    <tr>\n",
       "      <th>2</th>\n",
       "      <td>1610612751</td>\n",
       "      <td>Brooklyn Nets</td>\n",
       "      <td>53</td>\n",
       "      <td>29</td>\n",
       "      <td>24</td>\n",
       "      <td>0.547</td>\n",
       "      <td>48.2</td>\n",
       "      <td>41.5</td>\n",
       "      <td>88.4</td>\n",
       "      <td>0.470</td>\n",
       "      <td>...</td>\n",
       "      <td>16</td>\n",
       "      <td>25</td>\n",
       "      <td>7</td>\n",
       "      <td>21</td>\n",
       "      <td>20</td>\n",
       "      <td>16</td>\n",
       "      <td>10</td>\n",
       "      <td>15</td>\n",
       "      <td>10</td>\n",
       "      <td>Brooklyn Nets</td>\n",
       "    </tr>\n",
       "    <tr>\n",
       "      <th>3</th>\n",
       "      <td>1610612766</td>\n",
       "      <td>Charlotte Hornets</td>\n",
       "      <td>54</td>\n",
       "      <td>28</td>\n",
       "      <td>26</td>\n",
       "      <td>0.519</td>\n",
       "      <td>48.4</td>\n",
       "      <td>42.1</td>\n",
       "      <td>91.9</td>\n",
       "      <td>0.459</td>\n",
       "      <td>...</td>\n",
       "      <td>7</td>\n",
       "      <td>5</td>\n",
       "      <td>12</td>\n",
       "      <td>15</td>\n",
       "      <td>17</td>\n",
       "      <td>13</td>\n",
       "      <td>2</td>\n",
       "      <td>18</td>\n",
       "      <td>10</td>\n",
       "      <td>Charlotte Hornets</td>\n",
       "    </tr>\n",
       "    <tr>\n",
       "      <th>4</th>\n",
       "      <td>1610612741</td>\n",
       "      <td>Chicago Bulls</td>\n",
       "      <td>53</td>\n",
       "      <td>33</td>\n",
       "      <td>20</td>\n",
       "      <td>0.623</td>\n",
       "      <td>48.1</td>\n",
       "      <td>41.6</td>\n",
       "      <td>87.0</td>\n",
       "      <td>0.478</td>\n",
       "      <td>...</td>\n",
       "      <td>6</td>\n",
       "      <td>21</td>\n",
       "      <td>20</td>\n",
       "      <td>21</td>\n",
       "      <td>9</td>\n",
       "      <td>28</td>\n",
       "      <td>7</td>\n",
       "      <td>12</td>\n",
       "      <td>10</td>\n",
       "      <td>Chicago Bulls</td>\n",
       "    </tr>\n",
       "    <tr>\n",
       "      <th>5</th>\n",
       "      <td>1610612739</td>\n",
       "      <td>Cleveland Cavaliers</td>\n",
       "      <td>54</td>\n",
       "      <td>33</td>\n",
       "      <td>21</td>\n",
       "      <td>0.611</td>\n",
       "      <td>48.0</td>\n",
       "      <td>39.5</td>\n",
       "      <td>85.1</td>\n",
       "      <td>0.464</td>\n",
       "      <td>...</td>\n",
       "      <td>27</td>\n",
       "      <td>22</td>\n",
       "      <td>24</td>\n",
       "      <td>10</td>\n",
       "      <td>1</td>\n",
       "      <td>17</td>\n",
       "      <td>23</td>\n",
       "      <td>4</td>\n",
       "      <td>10</td>\n",
       "      <td>Cleveland Cavaliers</td>\n",
       "    </tr>\n",
       "    <tr>\n",
       "      <th>6</th>\n",
       "      <td>1610612742</td>\n",
       "      <td>Dallas Mavericks</td>\n",
       "      <td>54</td>\n",
       "      <td>31</td>\n",
       "      <td>23</td>\n",
       "      <td>0.574</td>\n",
       "      <td>48.3</td>\n",
       "      <td>39.1</td>\n",
       "      <td>86.4</td>\n",
       "      <td>0.453</td>\n",
       "      <td>...</td>\n",
       "      <td>3</td>\n",
       "      <td>23</td>\n",
       "      <td>27</td>\n",
       "      <td>1</td>\n",
       "      <td>19</td>\n",
       "      <td>10</td>\n",
       "      <td>25</td>\n",
       "      <td>9</td>\n",
       "      <td>10</td>\n",
       "      <td>Dallas Mavericks</td>\n",
       "    </tr>\n",
       "    <tr>\n",
       "      <th>7</th>\n",
       "      <td>1610612743</td>\n",
       "      <td>Denver Nuggets</td>\n",
       "      <td>53</td>\n",
       "      <td>29</td>\n",
       "      <td>24</td>\n",
       "      <td>0.547</td>\n",
       "      <td>48.2</td>\n",
       "      <td>40.8</td>\n",
       "      <td>86.5</td>\n",
       "      <td>0.472</td>\n",
       "      <td>...</td>\n",
       "      <td>15</td>\n",
       "      <td>20</td>\n",
       "      <td>29</td>\n",
       "      <td>18</td>\n",
       "      <td>15</td>\n",
       "      <td>20</td>\n",
       "      <td>14</td>\n",
       "      <td>11</td>\n",
       "      <td>10</td>\n",
       "      <td>Denver Nuggets</td>\n",
       "    </tr>\n",
       "    <tr>\n",
       "      <th>8</th>\n",
       "      <td>1610612765</td>\n",
       "      <td>Detroit Pistons</td>\n",
       "      <td>53</td>\n",
       "      <td>12</td>\n",
       "      <td>41</td>\n",
       "      <td>0.226</td>\n",
       "      <td>48.2</td>\n",
       "      <td>37.1</td>\n",
       "      <td>88.2</td>\n",
       "      <td>0.420</td>\n",
       "      <td>...</td>\n",
       "      <td>23</td>\n",
       "      <td>8</td>\n",
       "      <td>14</td>\n",
       "      <td>25</td>\n",
       "      <td>29</td>\n",
       "      <td>7</td>\n",
       "      <td>29</td>\n",
       "      <td>30</td>\n",
       "      <td>10</td>\n",
       "      <td>Detroit Pistons</td>\n",
       "    </tr>\n",
       "    <tr>\n",
       "      <th>9</th>\n",
       "      <td>1610612744</td>\n",
       "      <td>Golden State Warriors</td>\n",
       "      <td>53</td>\n",
       "      <td>40</td>\n",
       "      <td>13</td>\n",
       "      <td>0.755</td>\n",
       "      <td>48.2</td>\n",
       "      <td>40.4</td>\n",
       "      <td>86.5</td>\n",
       "      <td>0.467</td>\n",
       "      <td>...</td>\n",
       "      <td>29</td>\n",
       "      <td>2</td>\n",
       "      <td>10</td>\n",
       "      <td>4</td>\n",
       "      <td>26</td>\n",
       "      <td>29</td>\n",
       "      <td>12</td>\n",
       "      <td>1</td>\n",
       "      <td>10</td>\n",
       "      <td>Golden State Warriors</td>\n",
       "    </tr>\n",
       "  </tbody>\n",
       "</table>\n",
       "<p>10 rows × 56 columns</p>\n",
       "</div>"
      ],
      "text/plain": [
       "      TEAM_ID              TEAM_NAME  GP   W   L  W_PCT   MIN   FGM   FGA  \\\n",
       "0  1610612737          Atlanta Hawks  53  25  28  0.472  48.0  40.8  87.5   \n",
       "1  1610612738         Boston Celtics  55  30  25  0.545  48.7  39.4  87.6   \n",
       "2  1610612751          Brooklyn Nets  53  29  24  0.547  48.2  41.5  88.4   \n",
       "3  1610612766      Charlotte Hornets  54  28  26  0.519  48.4  42.1  91.9   \n",
       "4  1610612741          Chicago Bulls  53  33  20  0.623  48.1  41.6  87.0   \n",
       "5  1610612739    Cleveland Cavaliers  54  33  21  0.611  48.0  39.5  85.1   \n",
       "6  1610612742       Dallas Mavericks  54  31  23  0.574  48.3  39.1  86.4   \n",
       "7  1610612743         Denver Nuggets  53  29  24  0.547  48.2  40.8  86.5   \n",
       "8  1610612765        Detroit Pistons  53  12  41  0.226  48.2  37.1  88.2   \n",
       "9  1610612744  Golden State Warriors  53  40  13  0.755  48.2  40.4  86.5   \n",
       "\n",
       "   FG_PCT  ...  TOV_RANK  STL_RANK  BLK_RANK  BLKA_RANK  PF_RANK  PFD_RANK  \\\n",
       "0   0.466  ...         1        27        23         11        5         5   \n",
       "1   0.450  ...        18        19         2         16        8        18   \n",
       "2   0.470  ...        16        25         7         21       20        16   \n",
       "3   0.459  ...         7         5        12         15       17        13   \n",
       "4   0.478  ...         6        21        20         21        9        28   \n",
       "5   0.464  ...        27        22        24         10        1        17   \n",
       "6   0.453  ...         3        23        27          1       19        10   \n",
       "7   0.472  ...        15        20        29         18       15        20   \n",
       "8   0.420  ...        23         8        14         25       29         7   \n",
       "9   0.467  ...        29         2        10          4       26        29   \n",
       "\n",
       "   PTS_RANK  PLUS_MINUS_RANK  CFID               CFPARAMS  \n",
       "0         9               16    10          Atlanta Hawks  \n",
       "1        19                6    10         Boston Celtics  \n",
       "2        10               15    10          Brooklyn Nets  \n",
       "3         2               18    10      Charlotte Hornets  \n",
       "4         7               12    10          Chicago Bulls  \n",
       "5        23                4    10    Cleveland Cavaliers  \n",
       "6        25                9    10       Dallas Mavericks  \n",
       "7        14               11    10         Denver Nuggets  \n",
       "8        29               30    10        Detroit Pistons  \n",
       "9        12                1    10  Golden State Warriors  \n",
       "\n",
       "[10 rows x 56 columns]"
      ]
     },
     "execution_count": 55,
     "metadata": {},
     "output_type": "execute_result"
    }
   ],
   "source": [
    "frame.to_csv(\"frame.csv\")\n",
    "frame.head(10)\n"
   ]
  },
  {
   "cell_type": "code",
   "execution_count": 45,
   "metadata": {
    "collapsed": true
   },
   "outputs": [
    {
     "name": "stdout",
     "output_type": "stream",
     "text": [
      "Requirement already satisfied: adjustText in c:\\users\\ttsegaye\\anaconda3\\lib\\site-packages (0.7.3)\n",
      "Requirement already satisfied: numpy in c:\\users\\ttsegaye\\anaconda3\\lib\\site-packages (from adjustText) (1.20.1)\n",
      "Requirement already satisfied: matplotlib in c:\\users\\ttsegaye\\anaconda3\\lib\\site-packages (from adjustText) (3.3.2)\n",
      "Requirement already satisfied: cycler>=0.10 in c:\\users\\ttsegaye\\anaconda3\\lib\\site-packages (from matplotlib->adjustText) (0.10.0)\n",
      "Requirement already satisfied: pyparsing!=2.0.4,!=2.1.2,!=2.1.6,>=2.0.3 in c:\\users\\ttsegaye\\anaconda3\\lib\\site-packages (from matplotlib->adjustText) (2.4.7)\n",
      "Requirement already satisfied: certifi>=2020.06.20 in c:\\users\\ttsegaye\\anaconda3\\lib\\site-packages (from matplotlib->adjustText) (2020.6.20)\n",
      "Requirement already satisfied: kiwisolver>=1.0.1 in c:\\users\\ttsegaye\\anaconda3\\lib\\site-packages (from matplotlib->adjustText) (1.3.0)\n",
      "Requirement already satisfied: pillow>=6.2.0 in c:\\users\\ttsegaye\\anaconda3\\lib\\site-packages (from matplotlib->adjustText) (8.0.1)\n",
      "Requirement already satisfied: python-dateutil>=2.1 in c:\\users\\ttsegaye\\anaconda3\\lib\\site-packages (from matplotlib->adjustText) (2.8.1)\n",
      "Requirement already satisfied: six in c:\\users\\ttsegaye\\anaconda3\\lib\\site-packages (from cycler>=0.10->matplotlib->adjustText) (1.15.0)\n",
      "Requirement already satisfied: numpy in c:\\users\\ttsegaye\\anaconda3\\lib\\site-packages (1.20.1)\n"
     ]
    }
   ],
   "source": [
    "#this makes text labeling in charts better for visual purposes\n",
    "!pip install adjustText\n",
    "!pip install numpy\n",
    "from adjustText import adjust_text\n",
    "#Importing plt to plot graphs\n",
    "import matplotlib.pyplot as plt\n",
    "import numpy as np"
   ]
  },
  {
   "cell_type": "code",
   "execution_count": 69,
   "metadata": {},
   "outputs": [
    {
     "data": {
      "text/plain": [
       "<Figure size 504x504 with 0 Axes>"
      ]
     },
     "metadata": {},
     "output_type": "display_data"
    },
    {
     "data": {
      "image/png": "[encoded data removed]",
      "text/plain": [
       "<Figure size 864x720 with 1 Axes>"
      ]
     },
     "metadata": {
      "needs_background": "light"
     },
     "output_type": "display_data"
    }
   ],
   "source": [
    "#define the x and y variable to plot on x and y axis\n",
    "y = frame[\"PFD\"]\n",
    "x = frame[\"FG3A\"]\n",
    "\n",
    "#create the figure and size\n",
    "plt.figure(figsize=(7,7))\n",
    "\n",
    "fig, ax = plt.subplots(figsize=(12,10))\n",
    "\n",
    "\n",
    "#put grid lines in the plot\n",
    "plt.grid(zorder=0, alpha=.4)\n",
    "\n",
    "#choose x and y axis ranges\n",
    "plt.xlim(29,42)\n",
    "plt.ylim(17,23)\n",
    "\n",
    "#label the plot\n",
    "plt.ylabel(\"Personal Fouls Drawn\")\n",
    "plt.xlabel(\"Three Point Attempts\")\n",
    "plt.title(\"Personal Fouls Drawn vs Three Point Attempts Per Game\")\n",
    "\n",
    "# Put caption/source. 0.79 is where on x axis and 0.05 is where on y axis\n",
    "plt.figtext(.79, .05, 'Data: nba.com', fontsize=10)\n",
    "\n",
    "#This is the dashed line fitting the data and showing where its trending.\n",
    "#In this case its slightly trending up as it goes right which shows a \n",
    "#slight positive correlation to Fouls Drawn as teams shoot more Threes\n",
    "plt.plot(np.unique(x), np.poly1d(np.polyfit(x, y, 1))(np.unique(x)), \n",
    "         color='grey', linestyle='--')\n",
    "\n",
    "#create the plot. Alpha is how transparent the points are\n",
    "plt.scatter(frame.FG3A, frame.PFD,alpha=0.4,color=\"red\")\n",
    "\n",
    "#Put text labels on the points to know which point relates to which team\n",
    "texts = [plt.text(x0,y0,name,ha='right',va='bottom') for x0,y0,name in zip(\n",
    "    frame.FG3A, frame.PFD, frame.TEAM_NAME)]\n",
    "\n",
    "#adjust points and text\n",
    "adjust_text(texts, force_points =0.2, force_text =0.2)\n",
    "\n",
    "#show plot\n",
    "plt.show()"
   ]
  },
  {
   "cell_type": "code",
   "execution_count": null,
   "metadata": {},
   "outputs": [],
   "source": []
  }
 ],
 "metadata": {
  "kernelspec": {
   "display_name": "Python 3",
   "language": "python",
   "name": "python3"
  },
  "language_info": {
   "codemirror_mode": {
    "name": "ipython",
    "version": 3
   },
   "file_extension": ".py",
   "mimetype": "text/x-python",
   "name": "python",
   "nbconvert_exporter": "python",
   "pygments_lexer": "ipython3",
   "version": "3.8.5"
  }
 },
 "nbformat": 4,
 "nbformat_minor": 4
}
